{
 "cells": [
  {
   "cell_type": "code",
   "execution_count": 1,
   "id": "b3bc6052",
   "metadata": {},
   "outputs": [],
   "source": [
    "from pathlib import Path\n",
    "from Bio import Entrez\n",
    "\n",
    "from app.configs.parameters import fetch_top_k_papers\n",
    "from app.configs.paths import DATA_PATH\n",
    "\n",
    "from app.configs.prompts import REWRITE_QUERY_FOR_PUBMED_SEARCH \n",
    "from app.models.chatting_model import get_chatting_model_openai\n",
    "\n",
    "import os\n",
    "from dotenv import load_dotenv\n",
    "\n",
    "\n",
    "load_dotenv()\n",
    "\n",
    "Entrez.email = os.getenv(\"NCBI_EMAIL\")\n",
    "if not Entrez.email:\n",
    "    raise RuntimeError(\n",
    "        \"❌ Missing NCBI_EMAIL in environment. Set NCBI_EMAIL=your.email@institution.edu in your .env\"\n",
    "    )\n",
    "\n",
    "Entrez.api_key = os.getenv(\"NCBI_API_KEY\")\n",
    "if not Entrez.api_key:\n",
    "    print(\"⚠️  No NCBI_API_KEY provided; continuing with low rate limits.\")\n",
    "\n",
    "\n",
    "# query = '\"aging prevention\"[Title/Abstract] AND (\"intervention\"[All Fields] OR \"therapy\"[All Fields])'\n",
    "# query = \"How effective is aspirin prophylaxis for preventing stroke in patients with atrial fibrillation?\"\n",
    "QUERY = \"Aging prevention, how to prevent from aging?\"\n"
   ]
  },
  {
   "cell_type": "code",
   "execution_count": 36,
   "id": "1c26b46d",
   "metadata": {},
   "outputs": [],
   "source": [
    "def rewrite_pubmed_query(QUERY: str) -> str:\n",
    "    \"\"\"\n",
    "    Use an LLM to turn a natural question into a concise PubMed search string.\n",
    "    \"\"\"\n",
    "    llm = get_chatting_model_openai()\n",
    "\n",
    "    messages = [\n",
    "        {\"role\": \"system\", \"content\": REWRITE_QUERY_FOR_PUBMED_SEARCH},\n",
    "        {\"role\": \"user\", \"content\": QUERY},\n",
    "    ]\n",
    "\n",
    "    resp = llm.invoke(messages)\n",
    "    query = getattr(resp, \"content\", resp).strip()\n",
    "\n",
    "    print(f\"🔄 Rewritten PubMed query: {query}\")\n",
    "    return query\n"
   ]
  },
  {
   "cell_type": "code",
   "execution_count": null,
   "id": "b276b270",
   "metadata": {},
   "outputs": [],
   "source": []
  },
  {
   "cell_type": "code",
   "execution_count": 37,
   "id": "9a41d2c5",
   "metadata": {},
   "outputs": [],
   "source": [
    "\n",
    "def fetch_top_k_pmc_papers(query: str, k: int) -> list[tuple[str, str]]:\n",
    "    \"\"\"\n",
    "    Return a list of (PMID, PMC ID) for the first k papers in PubMed that have\n",
    "    a free PMC PDF.  Internally pages through results until k are found\n",
    "    or the result set is exhausted.\n",
    "    \"\"\"\n",
    "    collected = []\n",
    "    retstart = 0\n",
    "    batch = 20  # how many PMIDs to fetch at a time from PubMed\n",
    "    while len(collected) < k:\n",
    "        # 1) fetch the next batch of PMIDs\n",
    "        handle = Entrez.esearch(\n",
    "            db=\"pubmed\",\n",
    "            term=query,\n",
    "            retmax=batch,\n",
    "            retstart=retstart,\n",
    "        )\n",
    "        record = Entrez.read(handle)\n",
    "        pmids = record.get(\"IdList\", [])\n",
    "        handle.close()\n",
    "\n",
    "        if not pmids:\n",
    "            # no more results at all\n",
    "            break\n",
    "\n",
    "        # 2) for each PMID see if it links to a free PMC article\n",
    "        for pmid in pmids:\n",
    "            if len(collected) >= k:\n",
    "                break\n",
    "\n",
    "            pmcid = get_pmcid_for_pmid(pmid)\n",
    "            if pmcid:\n",
    "                collected.append((pmid, pmcid))\n",
    "\n",
    "        # 3) advance the window\n",
    "        retstart += batch\n",
    "\n",
    "        # be kind to NCBI servers\n",
    "        time.sleep(0.3)\n",
    "\n",
    "    return collected[:k]\n"
   ]
  },
  {
   "cell_type": "code",
   "execution_count": 38,
   "id": "9aac8b92",
   "metadata": {},
   "outputs": [],
   "source": [
    "def get_pmcid_for_pmid(pmid: str) -> str | None:\n",
    "    handle = Entrez.elink(dbfrom=\"pubmed\", db=\"pmc\", id=pmid)\n",
    "    linksets = Entrez.read(handle)\n",
    "    handle.close()\n",
    "    for block in linksets[0].get(\"LinkSetDb\", []):\n",
    "        if block.get(\"DbTo\", \"\").lower() == \"pmc\" and block.get(\"Link\"):\n",
    "            return block[\"Link\"][0][\"Id\"]\n",
    "    return None\n"
   ]
  },
  {
   "cell_type": "code",
   "execution_count": null,
   "id": "3feab707",
   "metadata": {},
   "outputs": [
    {
     "data": {
      "text/plain": [
       "[('40251235', '12008275'), ('40249538', '12008081')]"
      ]
     },
     "execution_count": 33,
     "metadata": {},
     "output_type": "execute_result"
    }
   ],
   "source": [
    "import time\n",
    "\n",
    "k = 2\n",
    "\n",
    "collected = []\n",
    "retstart = 0\n",
    "batch = 20  # how many PMIDs to fetch at a time from PubMed\n",
    "while len(collected) < k:\n",
    "    # 1) fetch the next batch of PMIDs\n",
    "    handle = Entrez.esearch(\n",
    "        db=\"pubmed\",\n",
    "        term=QUERY,\n",
    "        retmax=batch,\n",
    "        retstart=retstart,\n",
    "    )\n",
    "    record = Entrez.read(handle)\n",
    "    pmids = record.get(\"IdList\", [])\n",
    "    handle.close()\n",
    "\n",
    "    if not pmids:\n",
    "        # no more results at all\n",
    "        break\n",
    "\n",
    "    # 2) for each PMID see if it links to a free PMC article\n",
    "    for pmid in pmids:\n",
    "        if len(collected) >= k:\n",
    "            break\n",
    "\n",
    "        pmcid = get_pmcid_for_pmid(pmid)\n",
    "        \n",
    "        if pmcid:\n",
    "            collected.append((pmid, pmcid))\n",
    "\n",
    "    # 3) advance the window\n",
    "    retstart += batch\n",
    "\n",
    "    # be kind to NCBI servers\n",
    "    time.sleep(0.3)\n",
    "\n",
    "collected[:k]"
   ]
  },
  {
   "cell_type": "code",
   "execution_count": null,
   "id": "2701c2b6",
   "metadata": {},
   "outputs": [],
   "source": []
  },
  {
   "cell_type": "code",
   "execution_count": null,
   "id": "0773d62d",
   "metadata": {},
   "outputs": [],
   "source": []
  },
  {
   "cell_type": "code",
   "execution_count": null,
   "id": "47927cca",
   "metadata": {},
   "outputs": [],
   "source": []
  }
 ],
 "metadata": {
  "kernelspec": {
   "display_name": ".venv",
   "language": "python",
   "name": "python3"
  },
  "language_info": {
   "codemirror_mode": {
    "name": "ipython",
    "version": 3
   },
   "file_extension": ".py",
   "mimetype": "text/x-python",
   "name": "python",
   "nbconvert_exporter": "python",
   "pygments_lexer": "ipython3",
   "version": "3.13.2"
  }
 },
 "nbformat": 4,
 "nbformat_minor": 5
}
